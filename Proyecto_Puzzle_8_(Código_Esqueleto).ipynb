{
  "nbformat": 4,
  "nbformat_minor": 0,
  "metadata": {
    "colab": {
      "name": "Proyecto_Puzzle_8_(Código_Esqueleto).ipynb",
      "provenance": []
    },
    "kernelspec": {
      "name": "python3",
      "display_name": "Python 3"
    }
  },
  "cells": [
    {
      "cell_type": "markdown",
      "metadata": {
        "id": "Q8SaK6RwmFvP"
      },
      "source": [
        "# Proyecto Puzzle-8"
      ]
    },
    {
      "cell_type": "markdown",
      "metadata": {
        "id": "OEVMs1OnmSBZ"
      },
      "source": [
        "**Código esqueleto para el proyecto *Puzzle-8*** del Prof. Carlos Ogando para la asignatura Introducción a la IA en ITLA\r\n"
      ]
    },
    {
      "cell_type": "markdown",
      "metadata": {
        "id": "mb-eATyZmq_2"
      },
      "source": [
        "**Integrantes del equipo:**\r\n",
        " \r\n",
        "*( Introduzca en este espacio los integrantes del equipo, su correo y su matrícula)*"
      ]
    },
    {
      "cell_type": "code",
      "metadata": {
        "id": "AAnyM_aKlvD8"
      },
      "source": [
        "\"\"\"\r\n",
        "Código esqueleto para el proyecto Puzzle-8 del Prof. Carlos Ogando\r\n",
        "para la asignatura Introducción a la IA en ITLA.\r\n",
        "Python 3\r\n",
        "\"\"\"\r\n",
        "\r\n",
        "# Librerías\r\n",
        "\r\n",
        "import queue as Q\r\n",
        "\r\n",
        "import time\r\n",
        "\r\n",
        "import resource\r\n",
        "\r\n",
        "import math\r\n"
      ],
      "execution_count": null,
      "outputs": []
    },
    {
      "cell_type": "code",
      "metadata": {
        "id": "tmH9wMX_l25n"
      },
      "source": [
        "# Clase que representa el Puzzle-n general\r\n",
        "\r\n",
        "class PuzzleState(object):\r\n",
        "\r\n",
        "    \"\"\"docstring para PuzzleState\"\"\"\r\n",
        "\r\n",
        "    def __init__(self, config, n, parent=None, action=\"Initial\", cost=0):\r\n",
        "\r\n",
        "        if n*n != len(config) or n < 2:\r\n",
        "\r\n",
        "            raise Exception(\"the length of config is not correct!\")\r\n",
        "\r\n",
        "        self.n = n\r\n",
        "\r\n",
        "        self.cost = cost\r\n",
        "\r\n",
        "        self.parent = parent\r\n",
        "\r\n",
        "        self.action = action\r\n",
        "\r\n",
        "        self.dimension = n\r\n",
        "\r\n",
        "        self.config = config\r\n",
        "\r\n",
        "        self.children = []\r\n",
        "\r\n",
        "        for i, item in enumerate(self.config):\r\n",
        "\r\n",
        "            if item == 0:\r\n",
        "\r\n",
        "                self.blank_row = i // self.n\r\n",
        "\r\n",
        "                self.blank_col = i % self.n\r\n",
        "\r\n",
        "                break\r\n",
        "\r\n",
        "    def display(self):\r\n",
        "\r\n",
        "        for i in range(self.n):\r\n",
        "\r\n",
        "            line = []\r\n",
        "\r\n",
        "            offset = i * self.n\r\n",
        "\r\n",
        "            for j in range(self.n):\r\n",
        "\r\n",
        "                line.append(self.config[offset + j])\r\n",
        "\r\n",
        "            print(line)\r\n",
        "\r\n",
        "    def move_left(self):\r\n",
        "\r\n",
        "        if self.blank_col == 0:\r\n",
        "\r\n",
        "            return None\r\n",
        "\r\n",
        "        else:\r\n",
        "\r\n",
        "            blank_index = self.blank_row * self.n + self.blank_col\r\n",
        "\r\n",
        "            target = blank_index - 1\r\n",
        "\r\n",
        "            new_config = list(self.config)\r\n",
        "\r\n",
        "            new_config[blank_index], new_config[target] = new_config[target], new_config[blank_index]\r\n",
        "\r\n",
        "            return PuzzleState(tuple(new_config), self.n, parent=self, action=\"Left\", cost=self.cost + 1)\r\n",
        "\r\n",
        "    def move_right(self):\r\n",
        "\r\n",
        "        if self.blank_col == self.n - 1:\r\n",
        "\r\n",
        "            return None\r\n",
        "\r\n",
        "        else:\r\n",
        "\r\n",
        "            blank_index = self.blank_row * self.n + self.blank_col\r\n",
        "\r\n",
        "            target = blank_index + 1\r\n",
        "\r\n",
        "            new_config = list(self.config)\r\n",
        "\r\n",
        "            new_config[blank_index], new_config[target] = new_config[target], new_config[blank_index]\r\n",
        "\r\n",
        "            return PuzzleState(tuple(new_config), self.n, parent=self, action=\"Right\", cost=self.cost + 1)\r\n",
        "\r\n",
        "    def move_up(self):\r\n",
        "\r\n",
        "        if self.blank_row == 0:\r\n",
        "\r\n",
        "            return None\r\n",
        "\r\n",
        "        else:\r\n",
        "\r\n",
        "            blank_index = self.blank_row * self.n + self.blank_col\r\n",
        "\r\n",
        "            target = blank_index - self.n\r\n",
        "\r\n",
        "            new_config = list(self.config)\r\n",
        "\r\n",
        "            new_config[blank_index], new_config[target] = new_config[target], new_config[blank_index]\r\n",
        "\r\n",
        "            return PuzzleState(tuple(new_config), self.n, parent=self, action=\"Up\", cost=self.cost + 1)\r\n",
        "\r\n",
        "    def move_down(self):\r\n",
        "\r\n",
        "        if self.blank_row == self.n - 1:\r\n",
        "\r\n",
        "            return None\r\n",
        "\r\n",
        "        else:\r\n",
        "\r\n",
        "            blank_index = self.blank_row * self.n + self.blank_col\r\n",
        "\r\n",
        "            target = blank_index + self.n\r\n",
        "\r\n",
        "            new_config = list(self.config)\r\n",
        "\r\n",
        "            new_config[blank_index], new_config[target] = new_config[target], new_config[blank_index]\r\n",
        "\r\n",
        "            return PuzzleState(tuple(new_config), self.n, parent=self, action=\"Down\", cost=self.cost + 1)\r\n",
        "\r\n",
        "    def expand(self):\r\n",
        "\r\n",
        "        \"\"\"Expandir el nodo\"\"\"\r\n",
        "\r\n",
        "        # Añadir nodos hijos en orden UDLR (Up-Down-Left-Right)\r\n",
        "\r\n",
        "        if len(self.children) == 0:\r\n",
        "\r\n",
        "            up_child = self.move_up()\r\n",
        "\r\n",
        "            if up_child is not None:\r\n",
        "\r\n",
        "                self.children.append(up_child)\r\n",
        "\r\n",
        "            down_child = self.move_down()\r\n",
        "\r\n",
        "            if down_child is not None:\r\n",
        "\r\n",
        "                self.children.append(down_child)\r\n",
        "\r\n",
        "            left_child = self.move_left()\r\n",
        "\r\n",
        "            if left_child is not None:\r\n",
        "\r\n",
        "                self.children.append(left_child)\r\n",
        "\r\n",
        "            right_child = self.move_right()\r\n",
        "\r\n",
        "            if right_child is not None:\r\n",
        "\r\n",
        "                self.children.append(right_child)\r\n",
        "\r\n",
        "        return self.children"
      ],
      "execution_count": null,
      "outputs": []
    },
    {
      "cell_type": "code",
      "metadata": {
        "id": "Oo8nxSynoXnu"
      },
      "source": [
        "def writeOutput():\r\n",
        "\r\n",
        "    \"\"\"\r\n",
        "    Función que escribe output.txt\r\n",
        "    (Los estudiantes deben cambiar el método para que opere con los parametros necesarios).\r\n",
        "    \"\"\"\r\n",
        "\r\n",
        "    ### SU CÓDIGO VA AQUÍ ###\r\n"
      ],
      "execution_count": null,
      "outputs": []
    },
    {
      "cell_type": "code",
      "metadata": {
        "id": "n1TWV5hRoy1l"
      },
      "source": [
        "def bfs_search(initial_state):\r\n",
        "\r\n",
        "    \"\"\"BFS search\"\"\"\r\n",
        "\r\n",
        "    ### SU CÓDIGO VA AQUÍ ###"
      ],
      "execution_count": null,
      "outputs": []
    },
    {
      "cell_type": "code",
      "metadata": {
        "id": "PQQChSz4o-7w"
      },
      "source": [
        "def dfs_search(initial_state):\r\n",
        "\r\n",
        "    \"\"\"DFS search\"\"\"\r\n",
        "\r\n",
        "    ### SU CÓDIGO VA AQUÍ ###"
      ],
      "execution_count": null,
      "outputs": []
    },
    {
      "cell_type": "code",
      "metadata": {
        "id": "SwHS1DP1pBGF"
      },
      "source": [
        "def A_star_search(initial_state):\r\n",
        "\r\n",
        "    \"\"\"A * search\"\"\"\r\n",
        "\r\n",
        "    ### SU CÓDIGO VA AQUÍ ###"
      ],
      "execution_count": null,
      "outputs": []
    },
    {
      "cell_type": "code",
      "metadata": {
        "id": "9WPOEsxLpDEo"
      },
      "source": [
        "def calculate_total_cost(state):\r\n",
        "\r\n",
        "    \"\"\"\r\n",
        "    Calcula el costo total estimado de un estado\r\n",
        "    Esto es la suma de las distancias Manhattan con respecto a otras celdas\r\n",
        "    \"\"\"\r\n",
        "\r\n",
        "    ### SU CÓDIGO VA AQUÍ ###"
      ],
      "execution_count": null,
      "outputs": []
    },
    {
      "cell_type": "code",
      "metadata": {
        "id": "EbF6h1RRpGP7"
      },
      "source": [
        "def calculate_manhattan_dist(idx, value, n):\r\n",
        "\r\n",
        "    \"\"\"Calcula la distancia Manhattan de una celda\"\"\"\r\n",
        "\r\n",
        "    ### SU CÓDIGO VA AQUÍ ###"
      ],
      "execution_count": null,
      "outputs": []
    },
    {
      "cell_type": "code",
      "metadata": {
        "id": "b4g0B90QpIoI"
      },
      "source": [
        "def test_goal(puzzle_state):\r\n",
        "\r\n",
        "    \"\"\"Indica si se llegó a la meta\"\"\"\r\n",
        "\r\n",
        "    ### SU CÓDIGO VA AQUÍ ###"
      ],
      "execution_count": null,
      "outputs": []
    },
    {
      "cell_type": "code",
      "metadata": {
        "id": "djuZIBTgpRvK"
      },
      "source": [
        "# Función Main que leerá las entradas y llamará el algoritmo correspondiente\r\n",
        "\r\n",
        "def main():\r\n",
        "\r\n",
        "    query = input().split(\" \")\r\n",
        "\r\n",
        "    sm = query[0].lower()\r\n",
        "\r\n",
        "    begin_state = query[1].split(\",\")\r\n",
        "\r\n",
        "    begin_state = tuple(map(int, begin_state))\r\n",
        "\r\n",
        "    size = int(math.sqrt(len(begin_state)))\r\n",
        "\r\n",
        "    hard_state = PuzzleState(begin_state, size)\r\n",
        "\r\n",
        "    if sm == \"bfs\":\r\n",
        "\r\n",
        "        bfs_search(hard_state)\r\n",
        "\r\n",
        "    elif sm == \"dfs\":\r\n",
        "\r\n",
        "        dfs_search(hard_state)\r\n",
        "\r\n",
        "    elif sm == \"ast\":\r\n",
        "\r\n",
        "        A_star_search(hard_state)\r\n",
        "\r\n",
        "    else:\r\n",
        "\r\n",
        "        print(\"Introduzca comandos de argumentos válidos !\")\r\n",
        "\r\n",
        "if __name__ == '__main__':\r\n",
        "\r\n",
        "    main()"
      ],
      "execution_count": null,
      "outputs": []
    }
  ]
}